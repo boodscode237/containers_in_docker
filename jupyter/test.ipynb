{
 "cells": [
  {
   "cell_type": "code",
   "execution_count": 1,
   "id": "83eec5e8-38a9-4dc4-9c87-a221430d3fd7",
   "metadata": {},
   "outputs": [],
   "source": [
    "import psycopg2"
   ]
  },
  {
   "cell_type": "code",
   "execution_count": 2,
   "id": "1388bcee-4be4-4a5f-9f66-85224b361fd8",
   "metadata": {},
   "outputs": [],
   "source": [
    "conn = psycopg2.connect(\n",
    "    host=\"postgres\", port=5432,\n",
    "    dbname=\"postgres\",\n",
    "    user=\"postgres\",\n",
    "    password=\"postgres\"\n",
    ")"
   ]
  },
  {
   "cell_type": "code",
   "execution_count": 3,
   "id": "69d8eb54-a5b6-4e7c-ba2d-10273b767f9e",
   "metadata": {},
   "outputs": [],
   "source": [
    "cursor = conn.cursor()"
   ]
  },
  {
   "cell_type": "code",
   "execution_count": 5,
   "id": "78c2fe83-6c1a-4220-a27b-c1ebdd71b8f1",
   "metadata": {},
   "outputs": [
    {
     "data": {
      "text/plain": [
       "[(1, 'Moscow', 12615000, 1081.0, 1147, 'Moscow'),\n",
       " (2,\n",
       "  'Saint Petersburg',\n",
       "  5356994,\n",
       "  605.8,\n",
       "  1703,\n",
       "  'Northwestern Federal District'),\n",
       " (3, 'Novosibirsk', 1612181, 501.9, 1893, 'Siberian Federal District'),\n",
       " (4, 'Yekaterinburg', 1479876, 616.2, 1723, 'Ural Federal District'),\n",
       " (5, 'Nizhny Novgorod', 1283286, 465.4, 1221, 'Volga Federal District'),\n",
       " (6, 'Samara', 1164963, 461.6, 1586, 'Volga Federal District'),\n",
       " (7, 'Omsk', 1153374, 599.7, 1760, 'Siberian Federal District'),\n",
       " (8, 'Kazan', 1253072, 429.9, 1005, 'Volga Federal District'),\n",
       " (9, 'Chelyabinsk', 1196826, 549.9, 1736, 'Ural Federal District'),\n",
       " (10, 'Rostov-on-Don', 1113659, 356.5, 1749, 'Southern Federal District'),\n",
       " (11, 'Ufa', 1133290, 707.8, 1574, 'Volga Federal District'),\n",
       " (12, 'Volgograd', 1031314, 859.5, 1589, 'Volga Federal District'),\n",
       " (13, 'Perm', 1001165, 654.8, 1780, 'Ural Federal District'),\n",
       " (14, 'Saratov', 853844, 465.4, 1590, 'Volga Federal District'),\n",
       " (15, 'Krasnoyarsk', 1043246, 342.8, 1628, 'Siberian Federal District')]"
      ]
     },
     "execution_count": 5,
     "metadata": {},
     "output_type": "execute_result"
    }
   ],
   "source": [
    "cursor.execute('select * from russian_towns ;')\n",
    "cursor.fetchall()"
   ]
  },
  {
   "cell_type": "code",
   "execution_count": 6,
   "id": "aec0f741-6af0-4167-93dd-e30a032763de",
   "metadata": {},
   "outputs": [
    {
     "data": {
      "text/plain": [
       "[(2,\n",
       "  'Saint Petersburg',\n",
       "  5356994,\n",
       "  605.8,\n",
       "  1703,\n",
       "  'Northwestern Federal District'),\n",
       " (4, 'Yekaterinburg', 1479876, 616.2, 1723, 'Ural Federal District'),\n",
       " (6, 'Samara', 1164963, 461.6, 1586, 'Volga Federal District'),\n",
       " (8, 'Kazan', 1253072, 429.9, 1005, 'Volga Federal District'),\n",
       " (10, 'Rostov-on-Don', 1113659, 356.5, 1749, 'Southern Federal District'),\n",
       " (12, 'Volgograd', 1031314, 859.5, 1589, 'Volga Federal District'),\n",
       " (14, 'Saratov', 853844, 465.4, 1590, 'Volga Federal District')]"
      ]
     },
     "execution_count": 6,
     "metadata": {},
     "output_type": "execute_result"
    }
   ],
   "source": [
    "cursor.execute('select * from russian_towns where id % 2 = 0;')\n",
    "\n",
    "cursor.fetchall()"
   ]
  },
  {
   "cell_type": "code",
   "execution_count": null,
   "id": "d1351293-8dd4-48bf-9805-52c21643f5b5",
   "metadata": {},
   "outputs": [],
   "source": []
  }
 ],
 "metadata": {
  "kernelspec": {
   "display_name": "Python 3 (ipykernel)",
   "language": "python",
   "name": "python3"
  },
  "language_info": {
   "codemirror_mode": {
    "name": "ipython",
    "version": 3
   },
   "file_extension": ".py",
   "mimetype": "text/x-python",
   "name": "python",
   "nbconvert_exporter": "python",
   "pygments_lexer": "ipython3",
   "version": "3.8.2"
  }
 },
 "nbformat": 4,
 "nbformat_minor": 5
}
